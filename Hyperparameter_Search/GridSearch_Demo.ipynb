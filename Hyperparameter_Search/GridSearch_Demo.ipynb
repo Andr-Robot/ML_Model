{
 "cells": [
  {
   "attachments": {},
   "cell_type": "markdown",
   "metadata": {},
   "source": [
    "# GridSearchCV\n",
    "GridSearchCV的名字其实可以拆分为两部分，GridSearch和CV，即网格搜索和交叉验证。      \n",
    "\n",
    "网格搜索：搜索的是参数，即在指定的参数范围内，按步长依次调整参数，利用调整的参数训练学习器，从所有的参数中找到在验证集上精度最高的参数，这其实是一个循环和比较的过程。    \n",
    "\n",
    "交叉验证：\n",
    "- 将训练数据集划分为K份，K一般为10\n",
    "- 依次取其中一份为验证集，其余为训练集训练分类器，测试分类器在验证集上的精度 \n",
    "- 取K次实验的平均精度为该分类器的平均精度"
   ]
  },
  {
   "cell_type": "code",
   "execution_count": null,
   "metadata": {},
   "outputs": [],
   "source": [
    "from sklearn.model_selection import GridSearchCV\n",
    "from scipy.stats import uniform, randint\n",
    "\n",
    "from xgboost import XGBRFClassifier\n",
    "from sklearn.datasets import load_iris\n",
    "\n",
    "iris = load_iris()\n",
    "\n",
    "X = iris.data\n",
    "y = iris.target\n",
    "\n",
    "params = {'n_estimators' : [i for i in range(50, 501, 50)], \n",
    "          'learning_rate': [0.001, 0.01, 0.1, 0.2, 0, 3], \n",
    "          'subsample': [i / 10 for i in range(3, 10)], \n",
    "          'colsample_bytree': [i / 10 for i in range(5, 9)]\n",
    "          }\n",
    "\n",
    "xgb = XGBRFClassifier(objective='multi:softmax')\n",
    "'''\n",
    "使用xgb为estimator\n",
    "参数列表为 params\n",
    "评判标准为 accuracy\n",
    "注意：二分类时可以使用 scoring 可以设置为 roc_auc,多分类需要用 accuracy\n",
    "如果error了, 记为0分\n",
    "用所有的处理器进行计算\n",
    "'''\n",
    "clf = GridSearchCV(xgb, \n",
    "                   param_grid = params, \n",
    "                   scoring = 'accuracy', \n",
    "                   error_score = 0, \n",
    "                   verbose = 3, \n",
    "                   n_jobs = -1)\n",
    "\n",
    "# 开始搜索， 返回值中的model的参数是假的，看best estimator使用下面的命令\n",
    "clf.fit(X, y)\n",
    "\n",
    "# 查看最好的预测器\n",
    "print(clf.best_estimator_)\n",
    "\n",
    "# 查看最好的参数\n",
    "print(clf.best_params_)"
   ]
  },
  {
   "cell_type": "code",
   "execution_count": null,
   "metadata": {},
   "outputs": [],
   "source": []
  }
 ],
 "metadata": {
  "kernelspec": {
   "display_name": "base",
   "language": "python",
   "name": "python3"
  },
  "language_info": {
   "codemirror_mode": {
    "name": "ipython",
    "version": 3
   },
   "file_extension": ".py",
   "mimetype": "text/x-python",
   "name": "python",
   "nbconvert_exporter": "python",
   "pygments_lexer": "ipython3",
   "version": "3.8.2"
  },
  "orig_nbformat": 4
 },
 "nbformat": 4,
 "nbformat_minor": 2
}
