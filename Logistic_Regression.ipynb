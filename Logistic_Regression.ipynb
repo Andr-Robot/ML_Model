{
 "cells": [
  {
   "cell_type": "markdown",
   "metadata": {},
   "source": [
    "# Description\n",
    "这里使用TensorFlow 1.5实现用于分类任务的LR，数据集选用的是 MNIST。这是个手写数字数据库,包含60000个示例的训练集以及10000个示例的测试集.在 MNIST 数据集中的每张图片由 28 x 28 个像素点构成, 每个像素点用一个灰度值表示. "
   ]
  },
  {
   "cell_type": "code",
   "execution_count": 2,
   "metadata": {},
   "outputs": [
    {
     "name": "stdout",
     "output_type": "stream",
     "text": [
      "Extracting /tmp/data/train-images-idx3-ubyte.gz\n",
      "Extracting /tmp/data/train-labels-idx1-ubyte.gz\n",
      "Extracting /tmp/data/t10k-images-idx3-ubyte.gz\n",
      "Extracting /tmp/data/t10k-labels-idx1-ubyte.gz\n"
     ]
    }
   ],
   "source": [
    "import tensorflow as tf\n",
    "# Import MINST data\n",
    "from tensorflow.examples.tutorials.mnist import input_data\n",
    "mnist = input_data.read_data_sets(\"/tmp/data/\", one_hot=True)\n"
   ]
  },
  {
   "cell_type": "code",
   "execution_count": 3,
   "metadata": {},
   "outputs": [],
   "source": [
    "# Parameters\n",
    "learning_rate = 0.01\n",
    "training_epochs = 20\n",
    "batch_size = 100\n",
    "num_classes = 10\n",
    "display_step = 1\n",
    "feature_size = 28 * 28"
   ]
  },
  {
   "cell_type": "code",
   "execution_count": 4,
   "metadata": {},
   "outputs": [],
   "source": [
    "\n",
    "tf.reset_default_graph()  # 重置网络结构\n",
    "# tf Graph Input\n",
    "# mnist data image of shape 28*28=784\n",
    "input_x = tf.placeholder(dtype=tf.float32, shape=[None, 784], name=\"input_x\")\n",
    "# 0-9 digits recognition => 10 classes\n",
    "input_y = tf.placeholder(dtype=tf.float32, shape=[None, 10], name=\"input_y\")\n",
    "# ------ v1 不调用接口 ------\n",
    "# Set model weights\n",
    "W = tf.Variable(tf.zeros([feature_size, num_classes]))  # shape=(784, 10)\n",
    "b = tf.Variable(tf.zeros([num_classes]))  # shape=(10,)\n",
    "# Construct model\n",
    "pred = tf.nn.softmax(tf.matmul(input_x, W) + b)  # Softmax, shape=(?, 10)\n",
    "# Minimize error using cross entropy\n",
    "cost = tf.reduce_mean(-tf.reduce_sum(input_y *\n",
    "                      tf.log(pred), reduction_indices=1))\n",
    "\n",
    "# # ------ v2 调用接口 ------\n",
    "# logits = tf.layers.dense(inputs=input_x, units=num_classes, use_bias=True,\n",
    "#                          kernel_initializer=tf.zeros_initializer, name=\"LR\")  # shape=(?, 10)\n",
    "# pred = tf.nn.softmax(logits=logits, name=\"pred\")  # shape=(?, 10)\n",
    "# cost = tf.losses.softmax_cross_entropy(onehot_labels=input_y, logits=logits)\n",
    "\n",
    "# Gradient Descent\n",
    "optimizer = tf.train.GradientDescentOptimizer(learning_rate).minimize(cost)\n",
    "\n",
    "# Test model\n",
    "correct_prediction = tf.equal(tf.argmax(pred, 1), tf.argmax(input_y, 1))\n",
    "# Calculate accuracy for 3000 examples\n",
    "accuracy = tf.reduce_mean(tf.cast(correct_prediction, tf.float32))\n"
   ]
  },
  {
   "cell_type": "code",
   "execution_count": 5,
   "metadata": {},
   "outputs": [
    {
     "name": "stdout",
     "output_type": "stream",
     "text": [
      "Epoch: 0001 cost= 1.183992523\n",
      "Epoch: 0002 cost= 0.665442883\n",
      "Epoch: 0003 cost= 0.552889128\n",
      "Epoch: 0004 cost= 0.498766734\n",
      "Epoch: 0005 cost= 0.465416580\n",
      "Epoch: 0006 cost= 0.442654295\n",
      "Epoch: 0007 cost= 0.425560321\n",
      "Epoch: 0008 cost= 0.412178602\n",
      "Epoch: 0009 cost= 0.401371783\n",
      "Epoch: 0010 cost= 0.392396411\n",
      "Epoch: 0011 cost= 0.384758935\n",
      "Epoch: 0012 cost= 0.378169611\n",
      "Epoch: 0013 cost= 0.372395263\n",
      "Epoch: 0014 cost= 0.367260074\n",
      "Epoch: 0015 cost= 0.362720456\n",
      "Epoch: 0016 cost= 0.358564532\n",
      "Epoch: 0017 cost= 0.354887736\n",
      "Epoch: 0018 cost= 0.351479514\n",
      "Epoch: 0019 cost= 0.348264889\n",
      "Epoch: 0020 cost= 0.345395626\n",
      "Optimization Finished!\n",
      "Accuracy: 0.88533336\n"
     ]
    }
   ],
   "source": [
    "# Initialize the variables (i.e. assign their default value)\n",
    "init = tf.global_variables_initializer()\n",
    "# Start training\n",
    "with tf.Session() as sess:\n",
    "    sess.run(init)\n",
    "\n",
    "    # Training cycle\n",
    "    for epoch in range(training_epochs):\n",
    "        avg_cost = 0.\n",
    "        total_batch = int(mnist.train.num_examples/batch_size)\n",
    "        # Loop over all batches\n",
    "        for i in range(total_batch):\n",
    "            batch_xs, batch_ys = mnist.train.next_batch(batch_size)\n",
    "            # Fit training using batch data\n",
    "            _, c = sess.run([optimizer, cost], feed_dict={input_x: batch_xs,\n",
    "                                                          input_y: batch_ys})\n",
    "            # Compute average loss\n",
    "            avg_cost += c / total_batch\n",
    "        # Display logs per epoch step\n",
    "        if (epoch+1) % display_step == 0:\n",
    "            print(\"Epoch:\", '%04d' % (epoch+1), \"cost=\", \"{:.9f}\".format(avg_cost))\n",
    "\n",
    "    print(\"Optimization Finished!\")\n",
    "    \n",
    "    print(\"Accuracy:\", accuracy.eval(\n",
    "        {input_x: mnist.test.images[:3000], input_y: mnist.test.labels[:3000]}))\n"
   ]
  },
  {
   "cell_type": "code",
   "execution_count": null,
   "metadata": {},
   "outputs": [],
   "source": []
  }
 ],
 "metadata": {
  "interpreter": {
   "hash": "119520d86047836594542fcb86a87ded5ca1cba91a876d7fc0ec7e515126607a"
  },
  "kernelspec": {
   "display_name": "Python 3.8.2 ('base')",
   "language": "python",
   "name": "python3"
  },
  "language_info": {
   "codemirror_mode": {
    "name": "ipython",
    "version": 3
   },
   "file_extension": ".py",
   "mimetype": "text/x-python",
   "name": "python",
   "nbconvert_exporter": "python",
   "pygments_lexer": "ipython3",
   "version": "3.6.12"
  },
  "orig_nbformat": 4
 },
 "nbformat": 4,
 "nbformat_minor": 2
}
