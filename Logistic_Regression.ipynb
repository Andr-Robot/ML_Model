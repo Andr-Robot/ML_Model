{
 "cells": [
  {
   "cell_type": "code",
   "execution_count": 1,
   "metadata": {},
   "outputs": [
    {
     "name": "stderr",
     "output_type": "stream",
     "text": [
      "/Users/didi/miniconda3/envs/tfenv/lib/python3.6/site-packages/tensorflow/python/framework/dtypes.py:493: FutureWarning: Passing (type, 1) or '1type' as a synonym of type is deprecated; in a future version of numpy, it will be understood as (type, (1,)) / '(1,)type'.\n",
      "  _np_qint8 = np.dtype([(\"qint8\", np.int8, 1)])\n",
      "/Users/didi/miniconda3/envs/tfenv/lib/python3.6/site-packages/tensorflow/python/framework/dtypes.py:494: FutureWarning: Passing (type, 1) or '1type' as a synonym of type is deprecated; in a future version of numpy, it will be understood as (type, (1,)) / '(1,)type'.\n",
      "  _np_quint8 = np.dtype([(\"quint8\", np.uint8, 1)])\n",
      "/Users/didi/miniconda3/envs/tfenv/lib/python3.6/site-packages/tensorflow/python/framework/dtypes.py:495: FutureWarning: Passing (type, 1) or '1type' as a synonym of type is deprecated; in a future version of numpy, it will be understood as (type, (1,)) / '(1,)type'.\n",
      "  _np_qint16 = np.dtype([(\"qint16\", np.int16, 1)])\n",
      "/Users/didi/miniconda3/envs/tfenv/lib/python3.6/site-packages/tensorflow/python/framework/dtypes.py:496: FutureWarning: Passing (type, 1) or '1type' as a synonym of type is deprecated; in a future version of numpy, it will be understood as (type, (1,)) / '(1,)type'.\n",
      "  _np_quint16 = np.dtype([(\"quint16\", np.uint16, 1)])\n",
      "/Users/didi/miniconda3/envs/tfenv/lib/python3.6/site-packages/tensorflow/python/framework/dtypes.py:497: FutureWarning: Passing (type, 1) or '1type' as a synonym of type is deprecated; in a future version of numpy, it will be understood as (type, (1,)) / '(1,)type'.\n",
      "  _np_qint32 = np.dtype([(\"qint32\", np.int32, 1)])\n",
      "/Users/didi/miniconda3/envs/tfenv/lib/python3.6/site-packages/tensorflow/python/framework/dtypes.py:502: FutureWarning: Passing (type, 1) or '1type' as a synonym of type is deprecated; in a future version of numpy, it will be understood as (type, (1,)) / '(1,)type'.\n",
      "  np_resource = np.dtype([(\"resource\", np.ubyte, 1)])\n"
     ]
    },
    {
     "name": "stdout",
     "output_type": "stream",
     "text": [
      "Successfully downloaded train-images-idx3-ubyte.gz 9912422 bytes.\n",
      "Extracting /tmp/data/train-images-idx3-ubyte.gz\n",
      "Successfully downloaded train-labels-idx1-ubyte.gz 28881 bytes.\n",
      "Extracting /tmp/data/train-labels-idx1-ubyte.gz\n",
      "Successfully downloaded t10k-images-idx3-ubyte.gz 1648877 bytes.\n",
      "Extracting /tmp/data/t10k-images-idx3-ubyte.gz\n",
      "Successfully downloaded t10k-labels-idx1-ubyte.gz 4542 bytes.\n",
      "Extracting /tmp/data/t10k-labels-idx1-ubyte.gz\n"
     ]
    }
   ],
   "source": [
    "import tensorflow as tf\n",
    "# Import MINST data\n",
    "from tensorflow.examples.tutorials.mnist import input_data\n",
    "mnist = input_data.read_data_sets(\"/tmp/data/\", one_hot=True)"
   ]
  },
  {
   "cell_type": "code",
   "execution_count": 9,
   "metadata": {},
   "outputs": [],
   "source": [
    "# Parameters\n",
    "learning_rate = 0.01\n",
    "training_epochs = 20\n",
    "batch_size = 100\n",
    "num_classes = 10\n",
    "display_step = 1\n",
    "feature_size = 28 * 28"
   ]
  },
  {
   "cell_type": "code",
   "execution_count": 30,
   "metadata": {},
   "outputs": [],
   "source": [
    "\n",
    "tf.reset_default_graph()  # 重置网络结构\n",
    "# tf Graph Input\n",
    "# mnist data image of shape 28*28=784\n",
    "input_x = tf.placeholder(dtype=tf.float32, shape=[None, 784], name=\"input_x\")\n",
    "# 0-9 digits recognition => 10 classes\n",
    "input_y = tf.placeholder(dtype=tf.float32, shape=[None, 10], name=\"input_y\")\n",
    "# ------ v1 不调用接口 ------\n",
    "# Set model weights\n",
    "W = tf.Variable(tf.zeros([feature_size, num_classes]))  # shape=(784, 10)\n",
    "b = tf.Variable(tf.zeros([num_classes]))  # shape=(10,)\n",
    "# Construct model\n",
    "pred = tf.nn.softmax(tf.matmul(input_x, W) + b)  # Softmax, shape=(?, 10)\n",
    "# Minimize error using cross entropy\n",
    "cost = tf.reduce_mean(-tf.reduce_sum(input_y *\n",
    "                      tf.log(pred), reduction_indices=1))\n",
    "\n",
    "# # ------ v2 调用接口 ------\n",
    "# logits = tf.layers.dense(inputs=input_x, units=num_classes, use_bias=True,\n",
    "#                          kernel_initializer=tf.zeros_initializer, name=\"LR\")  # shape=(?, 10)\n",
    "# pred = tf.nn.softmax(logits=logits, name=\"pred\")  # shape=(?, 10)\n",
    "# cost = tf.losses.softmax_cross_entropy(onehot_labels=input_y, logits=logits)\n",
    "\n",
    "# Gradient Descent\n",
    "optimizer = tf.train.GradientDescentOptimizer(learning_rate).minimize(cost)\n",
    "\n",
    "# Test model\n",
    "correct_prediction = tf.equal(tf.argmax(pred, 1), tf.argmax(input_y, 1))\n",
    "# Calculate accuracy for 3000 examples\n",
    "accuracy = tf.reduce_mean(tf.cast(correct_prediction, tf.float32))\n"
   ]
  },
  {
   "cell_type": "code",
   "execution_count": 31,
   "metadata": {},
   "outputs": [
    {
     "name": "stdout",
     "output_type": "stream",
     "text": [
      "Epoch: 0001 cost= 1.184468955\n",
      "Epoch: 0002 cost= 0.665398103\n",
      "Epoch: 0003 cost= 0.553089497\n",
      "Epoch: 0004 cost= 0.498226045\n",
      "Epoch: 0005 cost= 0.465735922\n",
      "Epoch: 0006 cost= 0.442293742\n",
      "Epoch: 0007 cost= 0.425786554\n",
      "Epoch: 0008 cost= 0.411700056\n",
      "Epoch: 0009 cost= 0.401514078\n",
      "Epoch: 0010 cost= 0.392351863\n",
      "Epoch: 0011 cost= 0.384608420\n",
      "Epoch: 0012 cost= 0.378404692\n",
      "Epoch: 0013 cost= 0.372837543\n",
      "Epoch: 0014 cost= 0.366792649\n",
      "Epoch: 0015 cost= 0.362560155\n",
      "Epoch: 0016 cost= 0.358713187\n",
      "Epoch: 0017 cost= 0.355256095\n",
      "Epoch: 0018 cost= 0.351296299\n",
      "Epoch: 0019 cost= 0.348659648\n",
      "Epoch: 0020 cost= 0.345024994\n",
      "Optimization Finished!\n",
      "Accuracy: 0.88533336\n"
     ]
    }
   ],
   "source": [
    "# Initialize the variables (i.e. assign their default value)\n",
    "init = tf.global_variables_initializer()\n",
    "# Start training\n",
    "with tf.Session() as sess:\n",
    "    sess.run(init)\n",
    "\n",
    "    # Training cycle\n",
    "    for epoch in range(training_epochs):\n",
    "        avg_cost = 0.\n",
    "        total_batch = int(mnist.train.num_examples/batch_size)\n",
    "        # Loop over all batches\n",
    "        for i in range(total_batch):\n",
    "            batch_xs, batch_ys = mnist.train.next_batch(batch_size)\n",
    "            # Fit training using batch data\n",
    "            _, c = sess.run([optimizer, cost], feed_dict={input_x: batch_xs,\n",
    "                                                          input_y: batch_ys})\n",
    "            # Compute average loss\n",
    "            avg_cost += c / total_batch\n",
    "        # Display logs per epoch step\n",
    "        if (epoch+1) % display_step == 0:\n",
    "            print(\"Epoch:\", '%04d' % (epoch+1), \"cost=\", \"{:.9f}\".format(avg_cost))\n",
    "\n",
    "    print(\"Optimization Finished!\")\n",
    "    \n",
    "    print(\"Accuracy:\", accuracy.eval(\n",
    "        {input_x: mnist.test.images[:3000], input_y: mnist.test.labels[:3000]}))\n"
   ]
  },
  {
   "cell_type": "code",
   "execution_count": null,
   "metadata": {},
   "outputs": [],
   "source": []
  }
 ],
 "metadata": {
  "interpreter": {
   "hash": "119520d86047836594542fcb86a87ded5ca1cba91a876d7fc0ec7e515126607a"
  },
  "kernelspec": {
   "display_name": "Python 3.8.2 ('base')",
   "language": "python",
   "name": "python3"
  },
  "language_info": {
   "codemirror_mode": {
    "name": "ipython",
    "version": 3
   },
   "file_extension": ".py",
   "mimetype": "text/x-python",
   "name": "python",
   "nbconvert_exporter": "python",
   "pygments_lexer": "ipython3",
   "version": "3.6.12"
  },
  "orig_nbformat": 4
 },
 "nbformat": 4,
 "nbformat_minor": 2
}
