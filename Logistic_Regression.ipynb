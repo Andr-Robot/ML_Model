{
 "cells": [
  {
   "cell_type": "markdown",
   "metadata": {},
   "source": [
    "# Description\n",
    "这里使用TensorFlow 1.5实现用于分类任务的LR，数据集选用的是 MNIST。这是个手写数字数据库,包含60000个示例的训练集以及10000个示例的测试集.在 MNIST 数据集中的每张图片由 28 x 28 个像素点构成, 每个像素点用一个灰度值表示. "
   ]
  },
  {
   "cell_type": "code",
   "execution_count": null,
   "metadata": {},
   "outputs": [],
   "source": [
    "import tensorflow as tf\n",
    "# Import MINST data\n",
    "from tensorflow.examples.tutorials.mnist import input_data\n",
    "mnist = input_data.read_data_sets(\"/tmp/data/\", one_hot=True)\n"
   ]
  },
  {
   "cell_type": "code",
   "execution_count": null,
   "metadata": {},
   "outputs": [],
   "source": [
    "# Parameters\n",
    "learning_rate = 0.01\n",
    "training_epochs = 20\n",
    "batch_size = 100\n",
    "num_classes = 10\n",
    "display_step = 1\n",
    "feature_size = 28 * 28"
   ]
  },
  {
   "cell_type": "code",
   "execution_count": null,
   "metadata": {},
   "outputs": [],
   "source": [
    "\n",
    "tf.reset_default_graph()  # 重置网络结构\n",
    "# tf Graph Input\n",
    "# mnist data image of shape 28*28=784\n",
    "input_x = tf.placeholder(dtype=tf.float32, shape=[None, 784], name=\"input_x\")\n",
    "# 0-9 digits recognition => 10 classes\n",
    "input_y = tf.placeholder(dtype=tf.float32, shape=[None, 10], name=\"input_y\")\n",
    "# ------ v1 不调用接口 ------\n",
    "# Set model weights\n",
    "W = tf.Variable(tf.zeros([feature_size, num_classes]))  # shape=(784, 10)\n",
    "b = tf.Variable(tf.zeros([num_classes]))  # shape=(10,)\n",
    "# Construct model\n",
    "pred = tf.nn.softmax(tf.matmul(input_x, W) + b)  # Softmax, shape=(?, 10)\n",
    "# Minimize error using cross entropy\n",
    "cost = tf.reduce_mean(-tf.reduce_sum(input_y *\n",
    "                      tf.log(pred), reduction_indices=1))\n",
    "\n",
    "# # ------ v2 调用接口 ------\n",
    "# logits = tf.layers.dense(inputs=input_x, units=num_classes, use_bias=True,\n",
    "#                          kernel_initializer=tf.zeros_initializer, name=\"LR\")  # shape=(?, 10)\n",
    "# pred = tf.nn.softmax(logits=logits, name=\"pred\")  # shape=(?, 10)\n",
    "# cost = tf.losses.softmax_cross_entropy(onehot_labels=input_y, logits=logits)\n",
    "\n",
    "# Gradient Descent\n",
    "optimizer = tf.train.GradientDescentOptimizer(learning_rate).minimize(cost)\n",
    "\n",
    "# Test model\n",
    "correct_prediction = tf.equal(tf.argmax(pred, 1), tf.argmax(input_y, 1))\n",
    "# Calculate accuracy for 3000 examples\n",
    "accuracy = tf.reduce_mean(tf.cast(correct_prediction, tf.float32))\n"
   ]
  },
  {
   "cell_type": "code",
   "execution_count": null,
   "metadata": {},
   "outputs": [],
   "source": [
    "# Initialize the variables (i.e. assign their default value)\n",
    "init = tf.global_variables_initializer()\n",
    "# Start training\n",
    "with tf.Session() as sess:\n",
    "    sess.run(init)\n",
    "\n",
    "    # Training cycle\n",
    "    for epoch in range(training_epochs):\n",
    "        avg_cost = 0.\n",
    "        total_batch = int(mnist.train.num_examples/batch_size)\n",
    "        # Loop over all batches\n",
    "        for i in range(total_batch):\n",
    "            batch_xs, batch_ys = mnist.train.next_batch(batch_size)\n",
    "            # Fit training using batch data\n",
    "            _, c = sess.run([optimizer, cost], feed_dict={input_x: batch_xs,\n",
    "                                                          input_y: batch_ys})\n",
    "            # Compute average loss\n",
    "            avg_cost += c / total_batch\n",
    "        # Display logs per epoch step\n",
    "        if (epoch+1) % display_step == 0:\n",
    "            print(\"Epoch:\", '%04d' % (epoch+1), \"cost=\", \"{:.9f}\".format(avg_cost))\n",
    "\n",
    "    print(\"Optimization Finished!\")\n",
    "    \n",
    "    print(\"Accuracy:\", accuracy.eval(\n",
    "        {input_x: mnist.test.images[:3000], input_y: mnist.test.labels[:3000]}))\n"
   ]
  },
  {
   "cell_type": "code",
   "execution_count": null,
   "metadata": {},
   "outputs": [],
   "source": []
  }
 ],
 "metadata": {
  "kernelspec": {
   "display_name": "Python 3.6.12 ('tfenv')",
   "language": "python",
   "name": "python3"
  },
  "language_info": {
   "codemirror_mode": {
    "name": "ipython",
    "version": 3
   },
   "file_extension": ".py",
   "mimetype": "text/x-python",
   "name": "python",
   "nbconvert_exporter": "python",
   "pygments_lexer": "ipython3",
   "version": "3.6.12"
  },
  "orig_nbformat": 4,
  "vscode": {
   "interpreter": {
    "hash": "b4827ba0a60287222e0734208e739e577ad99c99756b6b76b9edc625c5645729"
   }
  }
 },
 "nbformat": 4,
 "nbformat_minor": 2
}
