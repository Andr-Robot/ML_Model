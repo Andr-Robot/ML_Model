{
 "cells": [
  {
   "attachments": {},
   "cell_type": "markdown",
   "metadata": {},
   "source": [
    "# 描述\n",
    "使用xgboost实现rank"
   ]
  },
  {
   "cell_type": "code",
   "execution_count": 67,
   "metadata": {},
   "outputs": [],
   "source": [
    "import pandas as pd\n",
    "import numpy as np\n",
    "from xgboost import DMatrix,train\n",
    "import xgboost as xgb"
   ]
  },
  {
   "cell_type": "code",
   "execution_count": 68,
   "metadata": {},
   "outputs": [
    {
     "name": "stdout",
     "output_type": "stream",
     "text": [
      "[19:08:12] WARNING: /var/folders/sy/f16zz6x50xz3113nwtb9bvq00000gp/T/abs_52i0zqsusg/croot/xgboost-split_1675119655573/work/src/learner.cc:576: \n",
      "Parameters: { \"num_boost_round\" } might not be used.\n",
      "\n",
      "  This could be a false alarm, with some parameters getting used by language bindings but\n",
      "  then being mistakenly passed down to XGBoost core, or some parameter actually being used\n",
      "  but getting flagged wrongly here. Please open an issue if you find any such cases.\n",
      "\n",
      "\n",
      "[0]\ttrain-ndcg:0.89835\teval-ndcg:0.82624\n",
      "[1]\ttrain-ndcg:0.89835\teval-ndcg:0.82624\n",
      "[2]\ttrain-ndcg:1.00000\teval-ndcg:0.82624\n",
      "[3]\ttrain-ndcg:1.00000\teval-ndcg:0.82624\n",
      "[4]\ttrain-ndcg:1.00000\teval-ndcg:0.82624\n",
      "[5]\ttrain-ndcg:1.00000\teval-ndcg:0.82624\n",
      "[6]\ttrain-ndcg:1.00000\teval-ndcg:0.82624\n",
      "[7]\ttrain-ndcg:1.00000\teval-ndcg:0.82624\n",
      "[8]\ttrain-ndcg:1.00000\teval-ndcg:0.82624\n",
      "[9]\ttrain-ndcg:1.00000\teval-ndcg:0.82624\n",
      "[10]\ttrain-ndcg:1.00000\teval-ndcg:0.82624\n",
      "[11]\ttrain-ndcg:1.00000\teval-ndcg:0.82624\n",
      "[12]\ttrain-ndcg:1.00000\teval-ndcg:0.82624\n",
      "[13]\ttrain-ndcg:1.00000\teval-ndcg:0.82624\n",
      "[14]\ttrain-ndcg:1.00000\teval-ndcg:0.82624\n",
      "[15]\ttrain-ndcg:1.00000\teval-ndcg:0.82624\n",
      "[16]\ttrain-ndcg:1.00000\teval-ndcg:0.82624\n",
      "[17]\ttrain-ndcg:1.00000\teval-ndcg:0.82624\n",
      "[18]\ttrain-ndcg:1.00000\teval-ndcg:0.82624\n",
      "[19]\ttrain-ndcg:1.00000\teval-ndcg:0.82624\n",
      "[1.3302256 1.3302256 1.3302256 1.3302256 1.3302256 0.5341453]\n"
     ]
    }
   ],
   "source": [
    "# 使用xgboost原生接口实现 https://www.jianshu.com/p/9caef967ec0a\n",
    "xgb_rank_params = {\n",
    "    'booster': 'gbtree',\n",
    "    'eta': 0.1,\n",
    "    'gamma': 1.0,\n",
    "    'min_child_weight': 0.1,\n",
    "    'objective': 'rank:pairwise',\n",
    "    'eval_metric': 'ndcg',\n",
    "    'max_depth': 6,\n",
    "    'num_boost_round': 10\n",
    "}\n",
    "\n",
    "#generate training dataset\n",
    "# 一共2组*每组3条，6条样本，特征维数是2\n",
    "n_group = 2\n",
    "n_choice = 3\n",
    "dtrain = np.random.uniform(0, 100, [n_group * n_choice, 2]) # (6, 2)\n",
    "dtarget = np.array([np.random.choice([0, 1, 2], 3, False) for i in range(n_group)]).flatten()\n",
    "# n_group用于表示从前到后每组各自有多少样本，前提是样本中各组是连续的，[3，3]表示一共6条样本中前3条是第一组，后3条是第二组\n",
    "dgroup = np.array([n_choice for i in range(n_group)]).flatten()\n",
    "\n",
    "# concate Train data, very import here !\n",
    "xgbTrain = DMatrix(dtrain, label=dtarget)\n",
    "xgbTrain.set_group(dgroup)\n",
    "\n",
    "# generate eval data\n",
    "dtrain_eval = np.random.uniform(0, 100, [n_group * n_choice, 2])\n",
    "xgbTrain_eval = DMatrix(dtrain_eval, label=dtarget)\n",
    "xgbTrain_eval.set_group(dgroup)\n",
    "evallist = [(xgbTrain, 'train'), (xgbTrain_eval, 'eval')]\n",
    "\n",
    "# train model\n",
    "rankModel = train(xgb_rank_params, xgbTrain, num_boost_round=20, evals=evallist)\n",
    "\n",
    "#test dataset\n",
    "dtest = np.random.uniform(0, 100, [n_group * n_choice, 2])\n",
    "dtestgroup = np.array([n_choice for i in range(n_group)]).flatten()\n",
    "xgbTest = DMatrix(dtest)\n",
    "xgbTest.set_group(dgroup)\n",
    "\n",
    "# test\n",
    "print(rankModel.predict(xgbTest))\n"
   ]
  },
  {
   "cell_type": "code",
   "execution_count": 69,
   "metadata": {},
   "outputs": [
    {
     "name": "stdout",
     "output_type": "stream",
     "text": [
      "[0]\tvalidation_0-ndcg:0.74262\tvalidation_1-ndcg:0.79344\n",
      "[1]\tvalidation_0-ndcg:0.79671\tvalidation_1-ndcg:0.82950\n",
      "[2]\tvalidation_0-ndcg:0.79671\tvalidation_1-ndcg:0.98197\n",
      "[3]\tvalidation_0-ndcg:0.89835\tvalidation_1-ndcg:0.98197\n",
      "[4]\tvalidation_0-ndcg:0.89835\tvalidation_1-ndcg:0.98197\n",
      "[5]\tvalidation_0-ndcg:0.89835\tvalidation_1-ndcg:0.98197\n",
      "[6]\tvalidation_0-ndcg:0.89835\tvalidation_1-ndcg:1.00000\n",
      "[7]\tvalidation_0-ndcg:0.89835\tvalidation_1-ndcg:0.89835\n",
      "[8]\tvalidation_0-ndcg:0.89835\tvalidation_1-ndcg:0.89835\n",
      "[9]\tvalidation_0-ndcg:0.89835\tvalidation_1-ndcg:0.88032\n",
      "[10]\tvalidation_0-ndcg:0.89835\tvalidation_1-ndcg:0.88032\n",
      "[11]\tvalidation_0-ndcg:0.89835\tvalidation_1-ndcg:0.88032\n",
      "[12]\tvalidation_0-ndcg:0.89835\tvalidation_1-ndcg:0.88032\n",
      "[13]\tvalidation_0-ndcg:0.89835\tvalidation_1-ndcg:0.72786\n",
      "[14]\tvalidation_0-ndcg:1.00000\tvalidation_1-ndcg:0.88032\n",
      "[15]\tvalidation_0-ndcg:1.00000\tvalidation_1-ndcg:0.88032\n",
      "[16]\tvalidation_0-ndcg:0.98197\tvalidation_1-ndcg:0.88032\n",
      "[17]\tvalidation_0-ndcg:0.98197\tvalidation_1-ndcg:0.88032\n",
      "[18]\tvalidation_0-ndcg:0.98197\tvalidation_1-ndcg:0.88032\n",
      "[19]\tvalidation_0-ndcg:0.98197\tvalidation_1-ndcg:0.88032\n",
      "[0.49729288 0.49602655 0.4982601  0.4995265  0.49602655 0.5002522 ]\n"
     ]
    }
   ],
   "source": [
    "# 使用sklearn接口实现 https://zhuanlan.zhihu.com/p/384661987\n",
    "\n",
    "#generate training dataset\n",
    "# 一共2组*每组3条，6条样本，特征维数是2\n",
    "n_group = 2\n",
    "n_choice = 3\n",
    "df_fea = pd.DataFrame(np.random.uniform(0, 100, size=(n_group * n_choice, 2)), columns=['x1', 'x2'])\n",
    "df_target = pd.DataFrame(np.array([np.random.choice([0, 1, 2], 3, False) for i in range(n_group)]).flatten(), columns=['label'])\n",
    "df_id = pd.DataFrame(np.array([i for i in range(n_group) for j in range(n_choice)]), columns=['id'])\n",
    "df_train = pd.concat([df_id, df_fea, df_target], axis=1)\n",
    "x_train, y_train = df_train[['x1', 'x2']].values, df_train['label'].values\n",
    "\n",
    "# generate eval data\n",
    "df_fea = pd.DataFrame(np.random.uniform(0, 100, size=(n_group * n_choice, 2)), columns=['x1', 'x2'])\n",
    "df_target = pd.DataFrame(np.array([np.random.choice([0, 1, 2], 3, False) for i in range(n_group)]).flatten(), columns=['label'])\n",
    "df_id = pd.DataFrame(np.array([i for i in range(n_group) for j in range(n_choice)]), columns=['id'])\n",
    "df_eval = pd.concat([df_id, df_fea, df_target], axis=1)\n",
    "x_eval, y_eval = df_eval[['x1', 'x2']].values, df_eval['label'].values\n",
    "\n",
    "# train model\n",
    "model = xgb.XGBRanker(booster='gbtree',\n",
    "                      objective='rank:pairwise',\n",
    "                      learning_rate=0.001,\n",
    "                      colsample_bytree=0.9,\n",
    "                      max_depth=6,\n",
    "                      n_estimators=20,\n",
    "                      eval_metric=['ndcg'])\n",
    "model.fit(x_train, y_train, qid=df_train['id'].values, eval_set=[(x_train, y_train), (x_eval, y_eval)], eval_qid=[df_train['id'].values, df_eval['id'].values], verbose=True)\n",
    "\n",
    "#test dataset\n",
    "df_fea = pd.DataFrame(np.random.uniform(0, 100, size=(n_group * n_choice, 2)), columns=['x1', 'x2'])\n",
    "df_target = pd.DataFrame(np.array([np.random.choice([0, 1, 2], 3, False) for i in range(n_group)]).flatten(), columns=['label'])\n",
    "df_id = pd.DataFrame(np.array([i for i in range(n_group) for j in range(n_choice)]), columns=['id'])\n",
    "df_test = pd.concat([df_id, df_fea, df_target], axis=1)\n",
    "x_test, y_test = df_test[['x1', 'x2']].values, df_test['label'].values\n",
    "\n",
    "# test\n",
    "print(model.predict(x_test))\n"
   ]
  },
  {
   "cell_type": "code",
   "execution_count": null,
   "metadata": {},
   "outputs": [],
   "source": []
  }
 ],
 "metadata": {
  "kernelspec": {
   "display_name": "base",
   "language": "python",
   "name": "python3"
  },
  "language_info": {
   "codemirror_mode": {
    "name": "ipython",
    "version": 3
   },
   "file_extension": ".py",
   "mimetype": "text/x-python",
   "name": "python",
   "nbconvert_exporter": "python",
   "pygments_lexer": "ipython3",
   "version": "3.8.2"
  },
  "orig_nbformat": 4,
  "vscode": {
   "interpreter": {
    "hash": "119520d86047836594542fcb86a87ded5ca1cba91a876d7fc0ec7e515126607a"
   }
  }
 },
 "nbformat": 4,
 "nbformat_minor": 2
}
