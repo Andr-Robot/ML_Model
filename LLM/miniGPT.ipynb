{
 "cells": [
  {
   "cell_type": "markdown",
   "id": "475201e9",
   "metadata": {},
   "source": [
    "# 描述\n",
    "实现一个最小可运行的 GPT‑style 自回归语言模型，涵盖 Embedding、位置编码、Masked 自注意力（Self‑Attention）、前馈网络（FFN）和输出层。\n",
    "\n",
    "## 参考文献\n",
    "- [完全从零写一个小模型](https://github.com/bbruceyuan/LLMs-Zero-to-Hero/blob/master/src/video/build_gpt.ipynb)\n",
    "- [karpathy/minGPT](https://github.com/karpathy/minGPT)\n",
    "- [karpathy/nanoGPT](https://github.com/karpathy/nanoGPT)"
   ]
  },
  {
   "cell_type": "code",
   "execution_count": 1,
   "id": "1cbf537b",
   "metadata": {},
   "outputs": [
    {
     "data": {
      "text/plain": [
       "<torch._C.Generator at 0x128a10ed0>"
      ]
     },
     "execution_count": 1,
     "metadata": {},
     "output_type": "execute_result"
    }
   ],
   "source": [
    "# part 1: 导入相关的 package\n",
    "import torch\n",
    "import torch.nn as nn\n",
    "import torch.nn.functional as F\n",
    "from torch.utils.data import Dataset\n",
    "from torch.utils.data import DataLoader\n",
    "from dataclasses import dataclass\n",
    "\n",
    "import math\n",
    "\n",
    "torch.manual_seed(1024)"
   ]
  },
  {
   "cell_type": "code",
   "execution_count": 2,
   "id": "45e88667",
   "metadata": {},
   "outputs": [],
   "source": [
    "@dataclass\n",
    "class GPTConfig:\n",
    "    block_size: int = 512   # 这里其实应该是文本的最大长度（ max_seq_len）\n",
    "    batch_size: int = 12\n",
    "    n_layer: int = 6\n",
    "    n_head: int = 12\n",
    "    n_embd: int = 768    # n_embd 也叫 hidden_dim, hiden_size, 这里我同时设置了和 embed_dim 一样\n",
    "    head_size: int = n_embd // n_head\n",
    "    dropout: float = 0.1\n",
    "    # # tiktoken 使用的是 GPT-2 的词表，大约有 50257 个token\n",
    "    vocab_size: int = 50257"
   ]
  },
  {
   "cell_type": "code",
   "execution_count": null,
   "id": "a92d9bb8",
   "metadata": {},
   "outputs": [],
   "source": []
  }
 ],
 "metadata": {
  "kernelspec": {
   "display_name": "3.11.0",
   "language": "python",
   "name": "python3"
  },
  "language_info": {
   "codemirror_mode": {
    "name": "ipython",
    "version": 3
   },
   "file_extension": ".py",
   "mimetype": "text/x-python",
   "name": "python",
   "nbconvert_exporter": "python",
   "pygments_lexer": "ipython3",
   "version": "3.11.0"
  }
 },
 "nbformat": 4,
 "nbformat_minor": 5
}
