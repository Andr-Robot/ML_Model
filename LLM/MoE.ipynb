{
 "cells": [
  {
   "cell_type": "markdown",
   "id": "87382143",
   "metadata": {},
   "source": [
    "# 描述\n",
    "以下是一个简化版的混合专家模型（MoE）实现，仅保留核心功能（Top-K路由和专家计算）。"
   ]
  },
  {
   "cell_type": "code",
   "execution_count": 28,
   "id": "9a1c4fc4",
   "metadata": {},
   "outputs": [
    {
     "name": "stdout",
     "output_type": "stream",
     "text": [
      "输入形状: torch.Size([4, 64])\n",
      "输出形状: torch.Size([4, 64])\n",
      "示例输出: tensor([-0.0109, -0.0823, -0.2853], grad_fn=<SliceBackward0>)\n",
      "门控权重示例: tensor([ 0.8467,  0.7944, -0.4276, -0.3861], grad_fn=<SelectBackward0>)\n"
     ]
    }
   ],
   "source": [
    "import torch\n",
    "import torch.nn as nn\n",
    "import torch.nn.functional as F\n",
    "\n",
    "class Expert(nn.Module):\n",
    "    \"\"\"基础专家模块：两层全连接网络\"\"\"\n",
    "    def __init__(self, input_dim, hidden_dim):\n",
    "        super().__init__()\n",
    "        self.net = nn.Sequential(\n",
    "            nn.Linear(input_dim, hidden_dim),\n",
    "            nn.ReLU(),\n",
    "            nn.Linear(hidden_dim, input_dim)\n",
    "        )\n",
    "    \n",
    "    def forward(self, x):\n",
    "        return self.net(x)\n",
    "\n",
    "class SimpleMoE(nn.Module):\n",
    "    \"\"\"极简MoE实现（无负载均衡）\"\"\"\n",
    "    def __init__(self, num_experts=4, input_dim=64, hidden_dim=128, top_k=2):\n",
    "        super().__init__()\n",
    "        self.num_experts = num_experts\n",
    "        self.top_k = top_k\n",
    "        \n",
    "        # 定义专家和门控网络\n",
    "        self.experts = nn.ModuleList([Expert(input_dim, hidden_dim) for _ in range(num_experts)])\n",
    "        self.gate = nn.Linear(input_dim, num_experts)\n",
    "    \n",
    "    def forward(self, x):\n",
    "        batch_size, input_dim = x.shape\n",
    "        \n",
    "        # Step 1: 计算门控分数 [batch_size, num_experts]\n",
    "        gate_logits = self.gate(x)\n",
    "        \n",
    "        # Step 2: 选择Top-K专家并归一化权重\n",
    "        weights, indices = torch.topk(gate_logits, self.top_k, dim=-1)\n",
    "        weights = F.softmax(weights, dim=-1)  # [batch_size, top_k]\n",
    "        \n",
    "        # Step 3: 初始化结果张量\n",
    "        results = torch.zeros_like(x)\n",
    "        \n",
    "        # Step 4: 稀疏计算（逐专家处理）\n",
    "        for expert_id in range(self.num_experts):\n",
    "            # 找到选择当前专家的样本\n",
    "            mask = (indices == expert_id).any(dim=-1)  # [batch_size]\n",
    "            \n",
    "            if mask.sum() > 0:  # 若有样本选择该专家\n",
    "                selected_x = x[mask]  # [selected_num, input_dim]\n",
    "                expert_output = self.experts[expert_id](selected_x)\n",
    "                \n",
    "                # 获取对应权重（可能来自多个Top-K位置）\n",
    "                expert_weights = weights[mask, (indices[mask] == expert_id).nonzero()[:, 1]]\n",
    "                \n",
    "                # 加权累加\n",
    "                results[mask] += expert_output * expert_weights.unsqueeze(-1)\n",
    "        \n",
    "        return results\n",
    "\n",
    "# 测试样例\n",
    "if __name__ == \"__main__\":\n",
    "    # 参数设置\n",
    "    batch_size = 4\n",
    "    input_dim = 64\n",
    "    num_experts = 4\n",
    "    top_k = 2\n",
    "    \n",
    "    # 初始化模型与输入\n",
    "    moe = SimpleMoE(num_experts=num_experts, input_dim=input_dim, top_k=top_k)\n",
    "    x = torch.randn(batch_size, input_dim)\n",
    "    \n",
    "    # 前向传播\n",
    "    output = moe(x)\n",
    "    \n",
    "    # 验证输出\n",
    "    print(f\"输入形状: {x.shape}\")      # 输出: torch.Size([4, 64])\n",
    "    print(f\"输出形状: {output.shape}\")  # 输出: torch.Size([4, 64])\n",
    "    print(\"示例输出:\", output[0][:3])    # 示例: tensor([0.12, -0.34, 0.56])\n",
    "    print(\"门控权重示例:\", moe.gate(x)[0])  # 示例输出各专家得分"
   ]
  },
  {
   "cell_type": "code",
   "execution_count": null,
   "id": "b4761cdd",
   "metadata": {},
   "outputs": [],
   "source": []
  }
 ],
 "metadata": {
  "kernelspec": {
   "display_name": "3.11.0",
   "language": "python",
   "name": "python3"
  },
  "language_info": {
   "codemirror_mode": {
    "name": "ipython",
    "version": 3
   },
   "file_extension": ".py",
   "mimetype": "text/x-python",
   "name": "python",
   "nbconvert_exporter": "python",
   "pygments_lexer": "ipython3",
   "version": "3.11.0"
  }
 },
 "nbformat": 4,
 "nbformat_minor": 5
}
